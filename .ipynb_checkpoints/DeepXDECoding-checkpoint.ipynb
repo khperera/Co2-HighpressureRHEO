{
 "cells": [
  {
   "cell_type": "code",
   "execution_count": null,
   "id": "3aa307e1-8a80-405d-812e-f85678cc7a89",
   "metadata": {},
   "outputs": [],
   "source": []
  }
 ],
 "metadata": {
  "kernelspec": {
   "display_name": "Python 3 (ipykernel)",
   "language": "python",
   "name": "python3"
  },
  "language_info": {
   "codemirror_mode": {
    "name": "ipython",
    "version": 3
   },
   "file_extension": ".py",
   "mimetype": "text/x-python",
   "name": "python",
   "nbconvert_exporter": "python",
   "pygments_lexer": "ipython3",
   "version": "3.9.16"
  }
 },
 "nbformat": 4,
 "nbformat_minor": 5
}
