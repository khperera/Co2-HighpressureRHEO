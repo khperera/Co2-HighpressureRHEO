{
 "cells": [
  {
   "cell_type": "code",
   "execution_count": 25,
   "id": "429a1d39-c395-4047-920e-cdb80dc6d86f",
   "metadata": {},
   "outputs": [
    {
     "name": "stdout",
     "output_type": "stream",
     "text": [
      "      radius  Relative concentration  Time (s)\n",
      "0   0.000000                     1.0         1\n",
      "1   0.000041                     1.0         1\n",
      "2   0.000082                     1.0         1\n",
      "3   0.000122                     1.0         1\n",
      "4   0.000163                     1.0         1\n",
      "..       ...                     ...       ...\n",
      "45  0.001837                     1.0    100000\n",
      "46  0.001878                     1.0    100000\n",
      "47  0.001918                     1.0    100000\n",
      "48  0.001959                     1.0    100000\n",
      "49  0.002000                     1.0    100000\n",
      "\n",
      "[300 rows x 3 columns]\n"
     ]
    }
   ],
   "source": [
    "#Hi\n",
    "import csv\n",
    "import pandas as pd\n",
    "import glob\n",
    "import os\n",
    "from io import StringIO\n",
    "import numpy as np\n",
    "import matplotlib.pyplot as plt\n",
    "import scipy as sp\n",
    "from scipy.signal import savgol_filter\n",
    "from scipy import special as spe\n",
    "import seaborn as sns\n",
    "import math\n",
    "# Apply the default theme\n",
    "\n",
    "#Variables\n",
    "R = 0.020 #mm\n",
    "RadialResolution = 50\n",
    "r = np.linspace(0,R,50)\n",
    "Temperatures = [100,120,130,140,150]\n",
    "#D is dependent on temperature, below is a placeholder\n",
    "#D = 1.1e-5\n",
    "Co = 1\n",
    "Times = [1,10,100,1000,10000,100000]\n",
    "numberofZeroes = 5\n",
    "ZerosOfB = spe.jn_zeros(0, numberofZeroes)\n",
    "\n",
    "\n",
    "\n",
    "\n",
    "\n",
    "dflist = []\n",
    "for T in Temperature:\n",
    "    Temp1 = T+273\n",
    "    Diff = 1.820e-14*Temp1-7.17266e-12*Temp1+3.09293e-10\n",
    "    D= Diff\n",
    "    for t in Times:\n",
    "        Clist = []\n",
    "        for r1 in r:\n",
    "            Besselpart = 1-2*(spe.jv(0,ZerosOfB*r1/R)/ZerosOfB*spe.jv(1,ZerosOfB)*np.exp(-ZerosOfB**2*D*t/R**2)).sum()\n",
    "            Clist.append(Besselpart)\n",
    "        #print([r,Clist])\n",
    "        df1 = pd.DataFrame(zip(list(r),Clist), columns = [\"radius\", \"Relative concentration\"])\n",
    "        df1[\"Time (s)\"] = t\n",
    "        df1[\"Temperature\"] = Temp1\n",
    "        dflist.append(df1)\n",
    "    FullDF = pd.concat(dflist)\n",
    "print(FullDF)"
   ]
  },
  {
   "cell_type": "code",
   "execution_count": null,
   "id": "3cc9abb1-7453-4aa9-ad3a-d5145927a1e1",
   "metadata": {},
   "outputs": [],
   "source": []
  },
  {
   "cell_type": "code",
   "execution_count": null,
   "id": "1f4f9ec1-9d12-4bcf-ac2c-887c30391fca",
   "metadata": {},
   "outputs": [],
   "source": []
  }
 ],
 "metadata": {
  "kernelspec": {
   "display_name": "Python 3 (ipykernel)",
   "language": "python",
   "name": "python3"
  },
  "language_info": {
   "codemirror_mode": {
    "name": "ipython",
    "version": 3
   },
   "file_extension": ".py",
   "mimetype": "text/x-python",
   "name": "python",
   "nbconvert_exporter": "python",
   "pygments_lexer": "ipython3",
   "version": "3.9.13"
  }
 },
 "nbformat": 4,
 "nbformat_minor": 5
}
